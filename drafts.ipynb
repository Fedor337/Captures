{
 "cells": [
  {
   "cell_type": "code",
   "execution_count": 3,
   "id": "9684a3b4",
   "metadata": {},
   "outputs": [],
   "source": [
    "import matplotlib.pyplot as plt\n",
    "from Bio.SeqRecord import SeqRecord"
   ]
  },
  {
   "cell_type": "code",
   "execution_count": 4,
   "id": "1239a303",
   "metadata": {},
   "outputs": [],
   "source": [
    "def plot_probes(exon_seq: str, probes: list[SeqRecord], title: str = \"Probe Coverage\"):\n",
    "    \"\"\"\n",
    "    Visualize probes as horizontal bars aligned on the exon sequence.\n",
    "    \"\"\"\n",
    "    fig, ax = plt.subplots(figsize=(12, 2))\n",
    "\n",
    "    exon_len = len(exon_seq)\n",
    "    ax.hlines(1, 0, exon_len, color=\"black\", linewidth=2, label=\"Exon\")\n",
    "\n",
    "    for i, probe in enumerate(probes):\n",
    "        # Извлекаем координаты из ID: ..._start_end\n",
    "        parts = probe.id.split(\"_\")\n",
    "        start = int(parts[-2]) - 1\n",
    "        end = int(parts[-1])\n",
    "        ax.add_patch(plt.Rectangle((start, 0.8), end - start, 0.4,\n",
    "                                   facecolor=\"skyblue\", edgecolor=\"black\"))\n",
    "        ax.text((start + end) / 2, 1.25, f\"P{i+1}\", ha=\"center\", fontsize=8)\n",
    "\n",
    "    ax.set_xlim(-10, exon_len + 10)\n",
    "    ax.set_ylim(0.5, 1.6)\n",
    "    ax.set_xlabel(\"Position (nt)\")\n",
    "    ax.set_yticks([])\n",
    "    ax.set_title(title)\n",
    "    plt.tight_layout()\n",
    "    plt.show()\n"
   ]
  },
  {
   "cell_type": "code",
   "execution_count": 5,
   "id": "d21f8aba",
   "metadata": {},
   "outputs": [
    {
     "data": {
      "image/png": "[encoded data removed]",
      "text/plain": [
       "<Figure size 1200x200 with 1 Axes>"
      ]
     },
     "metadata": {},
     "output_type": "display_data"
    }
   ],
   "source": [
    "from probe_generator import ProbeGenerator\n",
    "# from Bio.SeqRecord import SeqRecord\n",
    "# from Bio.Seq import Seq\n",
    "\n",
    "pg = ProbeGenerator(probe_length=120, max_step=60)\n",
    "seq = \"A\" * 350\n",
    "probes = pg.make_probes(seq, \"exonX\")\n",
    "\n",
    "plot_probes(seq, probes, title=\"ExonX Probe Coverage\")"
   ]
  }
 ],
 "metadata": {
  "kernelspec": {
   "display_name": "Python 3",
   "language": "python",
   "name": "python3"
  },
  "language_info": {
   "codemirror_mode": {
    "name": "ipython",
    "version": 3
   },
   "file_extension": ".py",
   "mimetype": "text/x-python",
   "name": "python",
   "nbconvert_exporter": "python",
   "pygments_lexer": "ipython3",
   "version": "3.11.9"
  }
 },
 "nbformat": 4,
 "nbformat_minor": 5
}
